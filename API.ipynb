{
 "cells": [
  {
   "cell_type": "markdown",
   "metadata": {},
   "source": [
    "# Exploring the Veeam API with Python\n",
    "\n",
    "The aim of this notebook is to provide you with how you can work with the Veeam API using Python.\n",
    "\n",
    "There are some tricky parts to using the API initally, however, once you get past this the API is relatively easy to consume. \n",
    "\n",
    "You are viewing a Jupyter Notebook, here you are able execute the code in each of the cells, this includes entering in information to run certain commands. \n",
    "\n",
    "You will need to press 'SHIFT + ENTER' to execute the code in each cell.\n",
    "\n",
    "## Creating the session\n",
    "\n",
    "The first step in the use of the API is creating a session, this is done by making a GET request to:\n",
    "\n",
    "    https://enterprise_manager:9893/api/\n",
    "    \n",
    "With Python we use the Requests library to handle all API requests to the server. First you need to import the library after installing, if you don't have it already do the following:\n",
    "\n",
    "    pip install requests\n",
    "\n",
    "Of course you'll also need Python from https://www.python.org/ remember to include python in your environmental path.\n",
    "\n",
    "First step is to import the libraries we will need to explore the API."
   ]
  },
  {
   "cell_type": "code",
   "execution_count": 181,
   "metadata": {},
   "outputs": [],
   "source": [
    "import requests\n",
    "import urllib3\n",
    "import pprint"
   ]
  },
  {
   "cell_type": "markdown",
   "metadata": {},
   "source": [
    "Next we need to make the request to the API, replace the URL with the IP/DNS of your Enterprise Manager.\n",
    "\n",
    "Running this sends back quite a complex json object which was daughting to me when I first saw it."
   ]
  },
  {
   "cell_type": "code",
   "execution_count": 182,
   "metadata": {},
   "outputs": [
    {
     "name": "stdout",
     "output_type": "stream",
     "text": [
      " Response code: 200\n",
      "{'Href': None,\n",
      " 'Links': [{'Href': 'https://192.168.3.10:9398/api/logonSessions',\n",
      "            'Name': None,\n",
      "            'Rel': 'Down',\n",
      "            'Type': 'LogonSessionList'},\n",
      "           {'Href': 'https://192.168.3.10:9398/api/sessionMngr/?v=latest',\n",
      "            'Name': None,\n",
      "            'Rel': 'Create',\n",
      "            'Type': 'LogonSession'}],\n",
      " 'SupportedVersions': {'SupportedVersions': [{'Links': [{'Href': 'https://192.168.3.10:9398/api/sessionMngr/?v=v1',\n",
      "                                                         'Name': None,\n",
      "                                                         'Rel': 'Create',\n",
      "                                                         'Type': 'LogonSession'}],\n",
      "                                              'Name': 'v1'},\n",
      "                                             {'Links': [{'Href': 'https://192.168.3.10:9398/api/sessionMngr/?v=v1_1',\n",
      "                                                         'Name': None,\n",
      "                                                         'Rel': 'Create',\n",
      "                                                         'Type': 'LogonSession'}],\n",
      "                                              'Name': 'v1_1'},\n",
      "                                             {'Links': [{'Href': 'https://192.168.3.10:9398/api/sessionMngr/?v=v1_2',\n",
      "                                                         'Name': None,\n",
      "                                                         'Rel': 'Create',\n",
      "                                                         'Type': 'LogonSession'}],\n",
      "                                              'Name': 'v1_2'},\n",
      "                                             {'Links': [{'Href': 'https://192.168.3.10:9398/api/sessionMngr/?v=v1_3',\n",
      "                                                         'Name': None,\n",
      "                                                         'Rel': 'Create',\n",
      "                                                         'Type': 'LogonSession'}],\n",
      "                                              'Name': 'v1_3'},\n",
      "                                             {'Links': [{'Href': 'https://192.168.3.10:9398/api/sessionMngr/?v=v1_4',\n",
      "                                                         'Name': None,\n",
      "                                                         'Rel': 'Create',\n",
      "                                                         'Type': 'LogonSession'}],\n",
      "                                              'Name': 'v1_4'},\n",
      "                                             {'Links': [{'Href': 'https://192.168.3.10:9398/api/sessionMngr/?v=v1_5',\n",
      "                                                         'Name': None,\n",
      "                                                         'Rel': 'Create',\n",
      "                                                         'Type': 'LogonSession'}],\n",
      "                                              'Name': 'v1_5'}]},\n",
      " 'Type': None}\n"
     ]
    }
   ],
   "source": [
    "HOST = \"192.168.3.10\"\n",
    "PORT = \"9398\"\n",
    "urllib3.disable_warnings()\n",
    "\n",
    "url = f\"https://{HOST}:{PORT}/api/\"\n",
    "headers = {\"Accept\": \"application/json\"}\n",
    "verify = False\n",
    "\n",
    "res = requests.get(url, headers=headers, verify=verify)\n",
    "print(f\" Response code: {res.status_code}\")\n",
    "res_json = res.json()\n",
    "pprint.pprint(res.json())"
   ]
  },
  {
   "cell_type": "markdown",
   "metadata": {},
   "source": [
    "We need to use one of the links listed above, usually the latest version, to perform login.\n",
    "\n",
    "You can either copy the URL or you can grab it using code.\n",
    "\n",
    "If you want to do it by code do the following, though it isn't exactly easy!"
   ]
  },
  {
   "cell_type": "code",
   "execution_count": 183,
   "metadata": {},
   "outputs": [
    {
     "name": "stdout",
     "output_type": "stream",
     "text": [
      "https://192.168.3.10:9398/api/sessionMngr/?v=v1_5\n"
     ]
    }
   ],
   "source": [
    "request_url = res_json['SupportedVersions']['SupportedVersions'][-1]['Links'][0]['Href']\n",
    "print(request_url)"
   ]
  },
  {
   "cell_type": "markdown",
   "metadata": {},
   "source": [
    "## Logging in\n",
    "\n",
    "Next we need to log in to the API using our credentails to get a X-RestSvcSessionId (token) back from the API to allow us to make our API requests.\n",
    "\n",
    "Getting the token is one of the harder aspects of the API, fortunatly Python has some methods to make it abit easier. \n",
    "\n",
    "So the main issue in regards to the token is that it is sent back in a lump of code, a bit like the example above.\n",
    "\n",
    "To send the request to the server for the token we do the following:"
   ]
  },
  {
   "cell_type": "code",
   "execution_count": 184,
   "metadata": {},
   "outputs": [
    {
     "name": "stdin",
     "output_type": "stream",
     "text": [
      "Enter Username:  administrator@testlab.net\n",
      "Enter password:  ········\n"
     ]
    },
    {
     "name": "stdout",
     "output_type": "stream",
     "text": [
      "201\n",
      "{'Content-Length': '5978',\n",
      " 'Content-Type': 'application/xml; charset=utf-8',\n",
      " 'Date': 'Fri, 15 Jan 2021 20:28:26 GMT',\n",
      " 'Location': 'https://192.168.3.10:9398/api/sessionMngr/7a3980e0-5c52-4678-9c1c-b77c54edb078',\n",
      " 'Server': 'Microsoft-HTTPAPI/2.0',\n",
      " 'Set-Cookie': 'X-RestSvcSessionId=N2EzOTgwZTAtNWM1Mi00Njc4LTljMWMtYjc3YzU0ZWRiMDc4; '\n",
      "               'path=/api',\n",
      " 'X-RestSvcSessionId': 'N2EzOTgwZTAtNWM1Mi00Njc4LTljMWMtYjc3YzU0ZWRiMDc4'}\n"
     ]
    }
   ],
   "source": [
    "import getpass\n",
    "login_url = f\"https://{HOST}:{PORT}/api/sessionMngr/?v=1_5\"\n",
    "username = input('Enter Username: ')\n",
    "password = getpass.getpass(\"Enter password: \")\n",
    "    \n",
    "response = requests.post(login_url, auth=requests.auth.HTTPBasicAuth(username, password), verify=verify)\n",
    "\n",
    "print(response.status_code)\n",
    "res_headers = response.headers\n",
    "pprint.pprint(dict(res_headers))"
   ]
  },
  {
   "cell_type": "markdown",
   "metadata": {},
   "source": [
    "Note that getpass is a library that allows us to securely input the password.\n",
    "\n",
    "So you should be seeing the headers that have been send back from the server above which should be an object. we need to grab the 'X-RestSvcSessionId' key-value pair out and then add it to the current headers object.\n",
    "\n",
    "To address this we will use a python 'get' method, this grabs a value from a object above."
   ]
  },
  {
   "cell_type": "code",
   "execution_count": 185,
   "metadata": {},
   "outputs": [
    {
     "name": "stdout",
     "output_type": "stream",
     "text": [
      "N2EzOTgwZTAtNWM1Mi00Njc4LTljMWMtYjc3YzU0ZWRiMDc4\n"
     ]
    }
   ],
   "source": [
    "token = res_headers.get('X-RestSvcSessionId')\n",
    "print(token)"
   ]
  },
  {
   "cell_type": "markdown",
   "metadata": {},
   "source": [
    "The add that back to the original header"
   ]
  },
  {
   "cell_type": "code",
   "execution_count": 186,
   "metadata": {},
   "outputs": [
    {
     "name": "stdout",
     "output_type": "stream",
     "text": [
      "{'Accept': 'application/json', 'X-RestSvcSessionId': 'N2EzOTgwZTAtNWM1Mi00Njc4LTljMWMtYjc3YzU0ZWRiMDc4'}\n"
     ]
    }
   ],
   "source": [
    "headers['X-RestSvcSessionId'] = token\n",
    "print(headers)"
   ]
  },
  {
   "cell_type": "markdown",
   "metadata": {},
   "source": [
    "## Test a request\n",
    "\n",
    "Right, that is basically it, we can now start making requests to the API. \n",
    "\n",
    "For this test we'll be using the /backups request to get a list of the backups."
   ]
  },
  {
   "cell_type": "code",
   "execution_count": 187,
   "metadata": {},
   "outputs": [
    {
     "name": "stdout",
     "output_type": "stream",
     "text": [
      "{'Refs': [{'Href': 'https://192.168.3.10:9398/api/backups/3b0627ee-84b7-4eb7-979d-44e5243273f5',\n",
      "           'Links': [{'Href': 'https://192.168.3.10:9398/api/backupServers/08d7c6c0-39c6-4822-828a-e6ea1ca9b192',\n",
      "                      'Name': 'veeamv10.testlab.net',\n",
      "                      'Rel': 'Up',\n",
      "                      'Type': 'BackupServerReference'},\n",
      "                     {'Href': 'https://192.168.3.10:9398/api/repositories/9ded35e2-9b74-4b92-9205-e0fb5ad8d699',\n",
      "                      'Name': 'v10_server_disk1',\n",
      "                      'Rel': 'Up',\n",
      "                      'Type': 'RepositoryReference'},\n",
      "                     {'Href': 'https://192.168.3.10:9398/api/backups/3b0627ee-84b7-4eb7-979d-44e5243273f5?format=Entity',\n",
      "                      'Name': 'AD Backup',\n",
      "                      'Rel': 'Alternate',\n",
      "                      'Type': 'Backup'},\n",
      "                     {'Href': 'https://192.168.3.10:9398/api/backups/3b0627ee-84b7-4eb7-979d-44e5243273f5/restorePoints',\n",
      "                      'Name': None,\n",
      "                      'Rel': 'Down',\n",
      "                      'Type': 'RestorePointReferenceList'},\n",
      "                     {'Href': 'https://192.168.3.10:9398/api/backups/3b0627ee-84b7-4eb7-979d-44e5243273f5/backupFiles',\n",
      "                      'Name': None,\n",
      "                      'Rel': 'Down',\n",
      "                      'Type': 'BackupFileReferenceList'}],\n",
      "           'Name': 'AD Backup',\n",
      "           'Type': 'BackupReference',\n",
      "           'UID': 'urn:veeam:Backup:3b0627ee-84b7-4eb7-979d-44e5243273f5'},\n",
      "          {'Href': 'https://192.168.3.10:9398/api/backups/618992c0-0909-4acc-96e1-5c4d1da70516',\n",
      "           'Links': [{'Href': 'https://192.168.3.10:9398/api/backupServers/08d7c6c0-39c6-4822-828a-e6ea1ca9b192',\n",
      "                      'Name': 'veeamv10.testlab.net',\n",
      "                      'Rel': 'Up',\n",
      "                      'Type': 'BackupServerReference'},\n",
      "                     {'Href': 'https://192.168.3.10:9398/api/repositories/9ded35e2-9b74-4b92-9205-e0fb5ad8d699',\n",
      "                      'Name': 'v10_server_disk1',\n",
      "                      'Rel': 'Up',\n",
      "                      'Type': 'RepositoryReference'},\n",
      "                     {'Href': 'https://192.168.3.10:9398/api/backups/618992c0-0909-4acc-96e1-5c4d1da70516?format=Entity',\n",
      "                      'Name': 'SQL1',\n",
      "                      'Rel': 'Alternate',\n",
      "                      'Type': 'Backup'},\n",
      "                     {'Href': 'https://192.168.3.10:9398/api/backups/618992c0-0909-4acc-96e1-5c4d1da70516/restorePoints',\n",
      "                      'Name': None,\n",
      "                      'Rel': 'Down',\n",
      "                      'Type': 'RestorePointReferenceList'},\n",
      "                     {'Href': 'https://192.168.3.10:9398/api/backups/618992c0-0909-4acc-96e1-5c4d1da70516/backupFiles',\n",
      "                      'Name': None,\n",
      "                      'Rel': 'Down',\n",
      "                      'Type': 'BackupFileReferenceList'}],\n",
      "           'Name': 'SQL1',\n",
      "           'Type': 'BackupReference',\n",
      "           'UID': 'urn:veeam:Backup:618992c0-0909-4acc-96e1-5c4d1da70516'},\n",
      "          {'Href': 'https://192.168.3.10:9398/api/backups/3d957abe-5cf7-415c-a699-b2345d30fc16',\n",
      "           'Links': [{'Href': 'https://192.168.3.10:9398/api/backupServers/08d7c6c0-39c6-4822-828a-e6ea1ca9b192',\n",
      "                      'Name': 'veeamv10.testlab.net',\n",
      "                      'Rel': 'Up',\n",
      "                      'Type': 'BackupServerReference'},\n",
      "                     {'Href': 'https://192.168.3.10:9398/api/repositories/b1b6e3bf-f786-4065-9c39-d8b8a5ec0d8c',\n",
      "                      'Name': 'Default Backup Repository',\n",
      "                      'Rel': 'Up',\n",
      "                      'Type': 'RepositoryReference'},\n",
      "                     {'Href': 'https://192.168.3.10:9398/api/backups/3d957abe-5cf7-415c-a699-b2345d30fc16?format=Entity',\n",
      "                      'Name': 'solaris main',\n",
      "                      'Rel': 'Alternate',\n",
      "                      'Type': 'Backup'},\n",
      "                     {'Href': 'https://192.168.3.10:9398/api/backups/3d957abe-5cf7-415c-a699-b2345d30fc16/restorePoints',\n",
      "                      'Name': None,\n",
      "                      'Rel': 'Down',\n",
      "                      'Type': 'RestorePointReferenceList'},\n",
      "                     {'Href': 'https://192.168.3.10:9398/api/backups/3d957abe-5cf7-415c-a699-b2345d30fc16/backupFiles',\n",
      "                      'Name': None,\n",
      "                      'Rel': 'Down',\n",
      "                      'Type': 'BackupFileReferenceList'}],\n",
      "           'Name': 'solaris main',\n",
      "           'Type': 'BackupReference',\n",
      "           'UID': 'urn:veeam:Backup:3d957abe-5cf7-415c-a699-b2345d30fc16'}]}\n"
     ]
    }
   ],
   "source": [
    "base_url = f\"https://{HOST}:{PORT}/api\"\n",
    "\n",
    "bu_addon = base_url + \"/backups\"\n",
    "\n",
    "response = requests.get(bu_addon, headers=headers, verify=verify)\n",
    "\n",
    "response_json = response.json()\n",
    "pprint.pprint(response_json)"
   ]
  },
  {
   "cell_type": "markdown",
   "metadata": {},
   "source": [
    "We can get the names of each of the jobs via:"
   ]
  },
  {
   "cell_type": "code",
   "execution_count": 188,
   "metadata": {},
   "outputs": [
    {
     "name": "stdout",
     "output_type": "stream",
     "text": [
      "['AD Backup', 'SQL1', 'solaris main']\n"
     ]
    }
   ],
   "source": [
    "names = [item['Name'] for item in response_json['Refs']]\n",
    "print(names)"
   ]
  },
  {
   "cell_type": "markdown",
   "metadata": {},
   "source": [
    "## Jobs\n",
    "\n",
    "Now we're going to look at the jobs"
   ]
  },
  {
   "cell_type": "code",
   "execution_count": 189,
   "metadata": {},
   "outputs": [
    {
     "name": "stdout",
     "output_type": "stream",
     "text": [
      "{'Refs': [{'Href': 'https://192.168.3.10:9398/api/jobs/4dedb517-d61e-4fbe-88ce-7a396ab7839b',\n",
      "           'Links': [{'Href': 'https://192.168.3.10:9398/api/backupServers/08d7c6c0-39c6-4822-828a-e6ea1ca9b192',\n",
      "                      'Name': 'veeamv10.testlab.net',\n",
      "                      'Rel': 'Up',\n",
      "                      'Type': 'BackupServerReference'},\n",
      "                     {'Href': 'https://192.168.3.10:9398/api/jobs/4dedb517-d61e-4fbe-88ce-7a396ab7839b?format=Entity',\n",
      "                      'Name': 'AD Backup',\n",
      "                      'Rel': 'Alternate',\n",
      "                      'Type': 'Job'},\n",
      "                     {'Href': 'https://192.168.3.10:9398/api/jobs/4dedb517-d61e-4fbe-88ce-7a396ab7839b/backupSessions',\n",
      "                      'Name': None,\n",
      "                      'Rel': 'Down',\n",
      "                      'Type': 'BackupJobSessionReferenceList'}],\n",
      "           'Name': 'AD Backup',\n",
      "           'Type': 'JobReference',\n",
      "           'UID': 'urn:veeam:Job:4dedb517-d61e-4fbe-88ce-7a396ab7839b'}]}\n"
     ]
    }
   ],
   "source": [
    "job_url = base_url + \"/jobs\"\n",
    "\n",
    "response = requests.get(job_url, headers=headers, verify=verify)\n",
    "\n",
    "response_json = response.json()\n",
    "pprint.pprint(response_json)"
   ]
  },
  {
   "cell_type": "code",
   "execution_count": 190,
   "metadata": {},
   "outputs": [
    {
     "name": "stdout",
     "output_type": "stream",
     "text": [
      "['AD Backup']\n"
     ]
    }
   ],
   "source": [
    "job_names = [item['Name'] for item in response_json['Refs']]\n",
    "print(job_names)"
   ]
  },
  {
   "cell_type": "markdown",
   "metadata": {},
   "source": [
    "## Overview Report\n",
    "\n",
    "Next we're going to run the overview report"
   ]
  },
  {
   "cell_type": "code",
   "execution_count": 191,
   "metadata": {},
   "outputs": [
    {
     "name": "stdout",
     "output_type": "stream",
     "text": [
      "BackupServers  :  1\n",
      "ProxyServers  :  2\n",
      "RepositoryServers  :  6\n",
      "RunningJobs  :  0\n",
      "ScheduledJobs  :  1\n",
      "SuccessfulVmLastestStates  :  1\n",
      "WarningVmLastestStates  :  0\n",
      "FailedVmLastestStates  :  0\n",
      "Links  :  None\n",
      "Href  :  None\n",
      "Type  :  None\n"
     ]
    }
   ],
   "source": [
    "overview = base_url + \"/reports/summary/overview\"\n",
    "\n",
    "overview_res = requests.get(overview, headers=headers, verify=verify)\n",
    "\n",
    "overview_json = overview_res.json()\n",
    "\n",
    "for key, value in overview_json.items():\n",
    "    print(key, ' : ', value)\n"
   ]
  },
  {
   "cell_type": "markdown",
   "metadata": {},
   "source": [
    "## Make a HTML Report\n",
    "\n",
    "For this I'm going to use a package called 'dominate':\n",
    "\n",
    "    pip install dominate\n",
    "    \n",
    "It makes it relatively easy to put together a nice looking report with styling that I'm importing from a Bootstrap CDN (Bootstrap is a popular CSS library)."
   ]
  },
  {
   "cell_type": "code",
   "execution_count": 192,
   "metadata": {},
   "outputs": [],
   "source": [
    "import dominate\n",
    "from dominate.tags import *"
   ]
  },
  {
   "cell_type": "code",
   "execution_count": 193,
   "metadata": {},
   "outputs": [],
   "source": [
    "table_headers = ['Area', 'State']\n",
    "\n",
    "def create_page():\n",
    "    doc = dominate.document(title='Overview Report')        \n",
    "    \n",
    "    with doc.head:\n",
    "        link(href=\"https://cdn.jsdelivr.net/npm/bootstrap@5.0.0-beta1/dist/css/bootstrap.min.css\", rel=\"stylesheet\", integrity=\"sha384-giJF6kkoqNQ00vy+HMDP7azOuL0xtbfIcaT9wjKHr8RbDVddVHyTfAAsrekwKmP1\", crossorigin=\"anonymous\")\n",
    "        script(src=\"https://cdn.jsdelivr.net/npm/bootstrap@5.0.0-beta1/dist/js/bootstrap.bundle.min.js\", integrity=\"sha384-ygbV9kiqUc6oa4msXn9868pTtWMgiQaeYH7/t7LECLbyPA2x65Kgf80OJFdroafW\", crossorigin=\"anonymous\")\n",
    "    with doc:\n",
    "        with div(cls='container'):\n",
    "            h1('Overview Report')\n",
    "            with table(cls='table table-striped'):\n",
    "                with thead():\n",
    "                    with tr():\n",
    "                        for table_head in table_headers:\n",
    "                            th(table_head)\n",
    "                with tbody():\n",
    "                    for key, value in overview_json.items():\n",
    "                        with tr():\n",
    "                            td(key)\n",
    "                            td(str(value))\n",
    "    \n",
    "    with open('index.html', 'w') as file:\n",
    "        file.write(doc.render())                  \n",
    "create_page()\n",
    "\n",
    "import os\n",
    "os.startfile(r'.\\index.html') "
   ]
  },
  {
   "cell_type": "markdown",
   "metadata": {},
   "source": [
    "## Job statistics\n",
    "\n",
    "Next up job statistics"
   ]
  },
  {
   "cell_type": "code",
   "execution_count": 156,
   "metadata": {},
   "outputs": [],
   "source": [
    "job_stats_url = base_url + \"/reports/summary/job_statistics\"\n",
    "\n",
    "job_stats_res = requests.get(job_stats_url, headers=headers, verify=verify)\n",
    "\n",
    "job_stats_json = job_stats_res.json()"
   ]
  },
  {
   "cell_type": "code",
   "execution_count": 180,
   "metadata": {},
   "outputs": [
    {
     "data": {
      "text/plain": [
       "{'RunningJobs': 0,\n",
       " 'ScheduledJobs': 1,\n",
       " 'ScheduledBackupJobs': 1,\n",
       " 'ScheduledReplicaJobs': 0,\n",
       " 'TotalJobRuns': 1,\n",
       " 'SuccessfulJobRuns': 1,\n",
       " 'WarningsJobRuns': 0,\n",
       " 'FailedJobRuns': 0,\n",
       " 'MaxJobDuration': 240,\n",
       " 'MaxBackupJobDuration': 240,\n",
       " 'MaxReplicaJobDuration': 0,\n",
       " 'MaxDurationBackupJobName': 'AD Backup',\n",
       " 'MaxDurationReplicaJobName': '',\n",
       " 'BackupJobStatusReportLink': 'Workspace/ViewReport.aspx?definition=7962844d-db6c-4d29-8b6e-4e0f7db0785f&ShowParams=1',\n",
       " 'Links': None,\n",
       " 'Href': None,\n",
       " 'Type': None}"
      ]
     },
     "execution_count": 180,
     "metadata": {},
     "output_type": "execute_result"
    }
   ],
   "source": [
    "job_stats_json"
   ]
  },
  {
   "cell_type": "markdown",
   "metadata": {},
   "source": [
    "## NAS Jobs\n",
    "\n",
    "Aim to pull out the files and folders"
   ]
  },
  {
   "cell_type": "code",
   "execution_count": 158,
   "metadata": {},
   "outputs": [],
   "source": [
    "nas_jobs_url = base_url + \"/nas/jobs\"\n",
    "\n",
    "nas_jobs_res = requests.get(nas_jobs_url, headers=headers, verify=verify)\n",
    "\n",
    "nas_jobs_json = nas_jobs_res.json()"
   ]
  },
  {
   "cell_type": "code",
   "execution_count": 168,
   "metadata": {},
   "outputs": [],
   "source": [
    "nas_uid = nas_jobs_json['Refs'][0]['UID']"
   ]
  },
  {
   "cell_type": "code",
   "execution_count": 170,
   "metadata": {},
   "outputs": [
    {
     "name": "stdout",
     "output_type": "stream",
     "text": [
      "{'NASObjects': [{'ExclusionMask': {'Extensions': ['\\\\\\\\192.168.2.15\\\\Guitar\\\\.snapshot',\n",
      "                                                  '\\\\\\\\192.168.2.15\\\\Guitar\\\\~snapshot']},\n",
      "                 'FileOrFolder': '\\\\\\\\192.168.2.15\\\\Guitar',\n",
      "                 'FileServerUid': 'urn:veeam:FileServer:f00ba514-0e5d-4911-b70f-6b33b0dc5d09',\n",
      "                 'HierarchyObjRef': 'urn:NasBackup:BackupServer:ece1400a-5d35-4534-b175-ba3a97f2ce4e',\n",
      "                 'Href': 'https://192.168.3.10:9398/api/nas/jobs/dad7f455-ee03-408c-a5cd-23c1f58f8845/includes/fc2c0999-08c1-4829-bb16-c78f4899bf14',\n",
      "                 'InclusionMask': {'Extensions': ['*.*']},\n",
      "                 'Links': [{'Href': 'https://192.168.3.10:9398/api/nas/jobs/dad7f455-ee03-408c-a5cd-23c1f58f8845?format=Entity',\n",
      "                            'Name': 'File Backup Job 1',\n",
      "                            'Rel': 'Up',\n",
      "                            'Type': 'Job'},\n",
      "                           {'Href': 'https://192.168.3.10:9398/api/nas/fileServers/f00ba514-0e5d-4911-b70f-6b33b0dc5d09?format=Entity',\n",
      "                            'Name': '\\\\\\\\192.168.2.15\\\\Guitar',\n",
      "                            'Rel': 'Related',\n",
      "                            'Type': 'FileServer'}],\n",
      "                 'ObjectInJobId': 'fc2c0999-08c1-4829-bb16-c78f4899bf14',\n",
      "                 'Type': 'NasObject'}]}\n"
     ]
    }
   ],
   "source": [
    "nas_files_url = f\"{nas_jobs_url}/{nas_uid}/includes\"\n",
    "\n",
    "nas_files_res = requests.get(nas_files_url, headers=headers, verify=verify)\n",
    "\n",
    "nas_files_json = nas_files_res.json()\n",
    "\n",
    "pprint.pprint(nas_files_json)"
   ]
  },
  {
   "cell_type": "markdown",
   "metadata": {},
   "source": [
    "## Conculsion\n",
    "\n",
    "In this document we have explorered the Veeam API showing mainly of the more difficult aspects of creating the session, logging in, grabbing the token and then using it to make our requests.\n",
    "\n",
    "I hope you have enjoyed!\n",
    "\n",
    "Ed Howard"
   ]
  },
  {
   "cell_type": "code",
   "execution_count": null,
   "metadata": {},
   "outputs": [],
   "source": []
  }
 ],
 "metadata": {
  "kernelspec": {
   "display_name": "Python 3",
   "language": "python",
   "name": "python3"
  },
  "language_info": {
   "codemirror_mode": {
    "name": "ipython",
    "version": 3
   },
   "file_extension": ".py",
   "mimetype": "text/x-python",
   "name": "python",
   "nbconvert_exporter": "python",
   "pygments_lexer": "ipython3",
   "version": "3.9.1"
  }
 },
 "nbformat": 4,
 "nbformat_minor": 4
}
